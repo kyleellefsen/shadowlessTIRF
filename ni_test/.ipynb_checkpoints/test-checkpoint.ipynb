{
 "cells": [
  {
   "cell_type": "code",
   "execution_count": 1,
   "metadata": {},
   "outputs": [],
   "source": [
    "import matplotlib.pyplot as plt\n",
    "%matplotlib inline"
   ]
  },
  {
   "cell_type": "code",
   "execution_count": 2,
   "metadata": {},
   "outputs": [
    {
     "name": "stdout",
     "output_type": "stream",
     "text": [
      "C:\\Users\\parker\\Documents\\Github\\shadowlessTIRF\n"
     ]
    }
   ],
   "source": [
    "cd .."
   ]
  },
  {
   "cell_type": "code",
   "execution_count": 3,
   "metadata": {},
   "outputs": [
    {
     "name": "stdout",
     "output_type": "stream",
     "text": [
      " Volume in drive C is Windows\n",
      " Volume Serial Number is 4C2E-C115\n",
      "\n",
      " Directory of C:\\Users\\parker\\Documents\\Github\\shadowlessTIRF\n",
      "\n",
      "05/03/2018  01:35 PM    <DIR>          .\n",
      "05/03/2018  01:35 PM    <DIR>          ..\n",
      "04/30/2018  04:10 PM               395 .gitattributes\n",
      "04/30/2018  04:10 PM             1,398 .gitignore\n",
      "05/03/2018  01:46 PM    <DIR>          __pycache__\n",
      "04/30/2018  04:10 PM             1,097 LICENSE.txt\n",
      "05/03/2018  02:05 PM    <DIR>          ni_test\n",
      "05/03/2018  11:43 AM             1,303 ni_test.py\n",
      "05/03/2018  11:16 AM             1,639 PyDAQmx_helper.py\n",
      "04/30/2018  04:10 PM               693 README.md\n",
      "04/30/2018  04:10 PM                30 shadowlessTIRF.bat\n",
      "05/03/2018  01:56 PM            28,002 shadowlessTIRF.py\n",
      "               8 File(s)         34,557 bytes\n",
      "               4 Dir(s)  913,555,386,368 bytes free\n"
     ]
    }
   ],
   "source": [
    "ls"
   ]
  },
  {
   "cell_type": "code",
   "execution_count": 4,
   "metadata": {},
   "outputs": [],
   "source": [
    "from shadowlessTIRF import *"
   ]
  },
  {
   "cell_type": "code",
   "execution_count": 5,
   "metadata": {},
   "outputs": [],
   "source": [
    "app = QApplication(sys.argv)"
   ]
  },
  {
   "cell_type": "code",
   "execution_count": 6,
   "metadata": {},
   "outputs": [
    {
     "data": {
      "text/plain": [
       "True"
      ]
     },
     "execution_count": 6,
     "metadata": {},
     "output_type": "execute_result"
    }
   ],
   "source": [
    "check_if_NI_devs_are_present()"
   ]
  },
  {
   "cell_type": "code",
   "execution_count": 7,
   "metadata": {},
   "outputs": [],
   "source": [
    "maingui=MainGui()\n",
    "self = maingui.galvoDriver\n",
    "s = self.settings"
   ]
  },
  {
   "cell_type": "code",
   "execution_count": 14,
   "metadata": {},
   "outputs": [],
   "source": [
    "s['frequency'] = 200"
   ]
  },
  {
   "cell_type": "code",
   "execution_count": 15,
   "metadata": {},
   "outputs": [],
   "source": [
    "self.calculate()"
   ]
  },
  {
   "cell_type": "code",
   "execution_count": 16,
   "metadata": {},
   "outputs": [],
   "source": [
    "sinwave, coswave = self.getSinCosTTL(s['frequency'],\n",
    "                                     s['radius'],\n",
    "                                     s['ellipticity'],\n",
    "                                     s['phase'],\n",
    "                                     s['x_shift'],\n",
    "                                     s['y_shift'],\n",
    "                                     s['blue_laser'],\n",
    "                                     s['green_laser'],\n",
    "                                     s['blue_laser_power'],\n",
    "                                     s['green_laser_power'])"
   ]
  },
  {
   "cell_type": "code",
   "execution_count": 23,
   "metadata": {},
   "outputs": [
    {
     "data": {
      "image/png": "[encoded data removed]",
      "text/plain": [
       "<matplotlib.figure.Figure at 0x1cf64684208>"
      ]
     },
     "metadata": {},
     "output_type": "display_data"
    }
   ],
   "source": [
    "fig, ax = plt.subplots(1, figsize=(10, 4))\n",
    "ax.plot(sinwave, label='sinwave')\n",
    "ax.plot(coswave, label='coswave')\n",
    "ax.legend();"
   ]
  },
  {
   "cell_type": "code",
   "execution_count": null,
   "metadata": {},
   "outputs": [],
   "source": []
  }
 ],
 "metadata": {
  "kernelspec": {
   "display_name": "Python 3",
   "language": "python",
   "name": "python3"
  },
  "language_info": {
   "codemirror_mode": {
    "name": "ipython",
    "version": 3
   },
   "file_extension": ".py",
   "mimetype": "text/x-python",
   "name": "python",
   "nbconvert_exporter": "python",
   "pygments_lexer": "ipython3",
   "version": "3.6.4"
  }
 },
 "nbformat": 4,
 "nbformat_minor": 2
}
